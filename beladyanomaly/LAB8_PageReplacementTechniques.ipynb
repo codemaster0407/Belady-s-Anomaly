{
 "cells": [
  {
   "cell_type": "markdown",
   "id": "59a44589",
   "metadata": {},
   "source": [
    "# Application of FIFO, LRU and optimal page replacement techniques"
   ]
  },
  {
   "cell_type": "code",
   "execution_count": 35,
   "id": "0354feef",
   "metadata": {},
   "outputs": [],
   "source": [
    "from copy import deepcopy\n",
    "\n",
    "def FIFO(reference_string, frame_size):\n",
    "    \n",
    "    queue = []\n",
    "    page_faults = 0\n",
    "    for i in range(len(reference_string)):\n",
    "        if reference_string[i] in queue:\n",
    "            continue\n",
    "        else:\n",
    "            page_faults += 1\n",
    "            if(len(queue) == frame_size):\n",
    "                queue.pop(0)\n",
    "                queue.append(reference_string[i])\n",
    "            else:\n",
    "                queue.append(reference_string[i])\n",
    "            print(queue)\n",
    "    return page_faults\n",
    "\n",
    "\n",
    "\n",
    "\n",
    "\n",
    "def check_future(future_string, queue):\n",
    "    temp = deepcopy(queue)\n",
    "#     print(future_string)\n",
    "    \n",
    "    for i in range(len(future_string)):\n",
    "        if len(temp) == 1:\n",
    "#             print(\"Element to be removed\" + str(temp[0]))\n",
    "            return temp[0]\n",
    "            \n",
    "        if future_string[i] in temp:\n",
    "            temp.remove(future_string[i])\n",
    "            \n",
    "    if len(temp)>1:\n",
    "        return temp[0]\n",
    "        \n",
    "\n",
    "            \n",
    "\n",
    "def Optimal(reference_string, frame_size):\n",
    "    \n",
    "    queue = []\n",
    "    page_faults = 0\n",
    "    \n",
    "    for i in range(len(reference_string)):\n",
    "        original_queue = queue\n",
    "        if reference_string[i] in queue:\n",
    "            print(\"No page fault\")\n",
    "            continue \n",
    "        else:\n",
    "            \n",
    "            page_faults += 1\n",
    "            \n",
    "            \n",
    "            if len(queue) == frame_size:\n",
    "                element = check_future(reference_string[i:], queue)\n",
    "                queue.remove(element)\n",
    "#                 print(\"Queue after removal\" + str(queue))\n",
    "                queue.append(reference_string[i])\n",
    "            else:\n",
    "                queue.append(reference_string[i])\n",
    "        print(\"The queue is \" + str(queue))\n",
    "    return page_faults\n",
    "\n",
    "            \n",
    "def LRU(reference_string, frame_size):\n",
    "    queue = []\n",
    "    page_faults = 0\n",
    "    for i in range(len(reference_string)):\n",
    "        original_queue = queue\n",
    "        if reference_string[i] in queue:\n",
    "            print(\"No page fault\")\n",
    "            continue \n",
    "        else:\n",
    "            \n",
    "            page_faults += 1\n",
    "            \n",
    "            \n",
    "            if len(queue) == frame_size:\n",
    "                new_list = reference_string[0:i+1].copy()\n",
    "                new_list.reverse()\n",
    "                element = check_future(new_list, queue)\n",
    "                queue.remove(element)\n",
    "#                 print(\"Queue after removal\" + str(queue))\n",
    "                queue.append(reference_string[i])\n",
    "            else:\n",
    "                queue.append(reference_string[i])\n",
    "        print(\"The queue is \" + str(queue))\n",
    "    return page_faults\n",
    "    \n",
    "        "
   ]
  },
  {
   "cell_type": "markdown",
   "id": "8a198248",
   "metadata": {},
   "source": [
    "For better knowledge of element changing in the queue, we are printing the queue at every iteration to see how it changes "
   ]
  },
  {
   "cell_type": "code",
   "execution_count": 43,
   "id": "9db08cff",
   "metadata": {},
   "outputs": [
    {
     "name": "stdout",
     "output_type": "stream",
     "text": [
      "[1]\n",
      "[1, 3]\n",
      "[1, 3, 0]\n",
      "[3, 0, 5]\n",
      "[0, 5, 6]\n"
     ]
    },
    {
     "data": {
      "text/plain": [
       "5"
      ]
     },
     "execution_count": 43,
     "metadata": {},
     "output_type": "execute_result"
    }
   ],
   "source": [
    "# print(\"The number of page faults are \", end = \"\")\n",
    "FIFO([1,3,0,3,5,6], 3)\n",
    "#The last line represents the number of page faults"
   ]
  },
  {
   "cell_type": "code",
   "execution_count": 44,
   "id": "82ffa977",
   "metadata": {},
   "outputs": [
    {
     "name": "stdout",
     "output_type": "stream",
     "text": [
      "The queue is [7]\n",
      "The queue is [7, 0]\n",
      "The queue is [7, 0, 1]\n",
      "The queue is [7, 0, 1, 2]\n",
      "No page fault\n",
      "The queue is [0, 1, 2, 3]\n",
      "No page fault\n",
      "The queue is [0, 2, 3, 4]\n",
      "No page fault\n",
      "No page fault\n",
      "No page fault\n",
      "No page fault\n",
      "No page fault\n"
     ]
    },
    {
     "data": {
      "text/plain": [
       "6"
      ]
     },
     "execution_count": 44,
     "metadata": {},
     "output_type": "execute_result"
    }
   ],
   "source": [
    "Optimal([  7, 0, 1, 2, 0, 3, 0, 4, 2, 3, 0, 3, 2], 4)\n",
    "#The last line represents the number of page faults"
   ]
  },
  {
   "cell_type": "code",
   "execution_count": 45,
   "id": "bffd2e2c",
   "metadata": {},
   "outputs": [
    {
     "name": "stdout",
     "output_type": "stream",
     "text": [
      "The queue is [7]\n",
      "The queue is [7, 0]\n",
      "The queue is [7, 0, 1]\n",
      "The queue is [7, 0, 1, 2]\n",
      "No page fault\n",
      "The queue is [0, 1, 2, 3]\n",
      "No page fault\n",
      "The queue is [0, 2, 3, 4]\n",
      "No page fault\n",
      "No page fault\n",
      "No page fault\n",
      "No page fault\n",
      "No page fault\n"
     ]
    },
    {
     "data": {
      "text/plain": [
       "6"
      ]
     },
     "execution_count": 45,
     "metadata": {},
     "output_type": "execute_result"
    }
   ],
   "source": [
    "LRU([7, 0, 1, 2, 0, 3, 0, 4, 2, 3, 0, 3, 2],4)\n",
    "#The last line represents the number of page faults"
   ]
  },
  {
   "cell_type": "markdown",
   "id": "7d4aa2ad",
   "metadata": {},
   "source": [
    "Run the below cell for user inputs \n",
    "\n",
    "Enter FIFO for FIFO replacement\n",
    "Enter optimal for optimal replacement\n",
    "Enter LRU for LRU replacement in the last cell"
   ]
  },
  {
   "cell_type": "code",
   "execution_count": 56,
   "id": "8370cd3a",
   "metadata": {},
   "outputs": [
    {
     "name": "stdout",
     "output_type": "stream",
     "text": [
      "Enter the frame size: \n",
      "3\n",
      "Enter the reference string: \n",
      "Type number with space: 1 3 0 3 5 6\n",
      "Enter which replacement algorithm you want to use: \n",
      "FIFO\n",
      "[1]\n",
      "[1, 3]\n",
      "[1, 3, 0]\n",
      "[3, 0, 5]\n",
      "[0, 5, 6]\n",
      "5\n"
     ]
    }
   ],
   "source": [
    "print(\"Enter the frame size: \")\n",
    "frame_size = int(input())\n",
    "\n",
    "\n",
    "print(\"Enter the reference string: \")\n",
    "\n",
    "lst = list(map(int, input(\"Type number with space: \").split()))\n",
    "\n",
    "print(\"Enter which replacement algorithm you want to use: \")\n",
    "algo = input()\n",
    "\n",
    "if algo == \"FIFO\":\n",
    "    print(FIFO(lst, frame_size))\n",
    "elif algo == \"Optimal\":\n",
    "    print(Optimal(lst, frame_size))\n",
    "elif algo == \"LRU\":\n",
    "    print(LRU(lst, frame_size))"
   ]
  },
  {
   "cell_type": "code",
   "execution_count": null,
   "id": "f7e77c8c",
   "metadata": {},
   "outputs": [],
   "source": []
  },
  {
   "cell_type": "code",
   "execution_count": null,
   "id": "8d7c2534",
   "metadata": {},
   "outputs": [],
   "source": []
  }
 ],
 "metadata": {
  "kernelspec": {
   "display_name": "Python 3 (ipykernel)",
   "language": "python",
   "name": "python3"
  },
  "language_info": {
   "codemirror_mode": {
    "name": "ipython",
    "version": 3
   },
   "file_extension": ".py",
   "mimetype": "text/x-python",
   "name": "python",
   "nbconvert_exporter": "python",
   "pygments_lexer": "ipython3",
   "version": "3.9.12"
  }
 },
 "nbformat": 4,
 "nbformat_minor": 5
}
